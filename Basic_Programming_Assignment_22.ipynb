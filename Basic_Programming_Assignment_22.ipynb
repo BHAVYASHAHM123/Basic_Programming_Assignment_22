{
  "nbformat": 4,
  "nbformat_minor": 0,
  "metadata": {
    "colab": {
      "name": "Basic_Programming_Assignment_22.ipynb",
      "provenance": []
    },
    "kernelspec": {
      "name": "python3",
      "display_name": "Python 3"
    },
    "language_info": {
      "name": "python"
    }
  },
  "cells": [
    {
      "cell_type": "markdown",
      "source": [
        "Q1) \n",
        "Create a function that takes three parameters where:\n",
        " x is the start of the range (inclusive).\n",
        " y is the end of the range (inclusive).\n",
        " n is the divisor to be checked against.\n",
        "Return an ordered list with numbers in the range that are divisible by the third parameter n.\n",
        "Return an empty list if there are no numbers that are divisible by n.\n",
        "Examples\n",
        "list_operation(1, 10, 3) ➞ [3, 6, 9]\n",
        "list_operation(7, 9, 2) ➞ [8]\n",
        "list_operation(15, 20, 7) ➞ []"
      ],
      "metadata": {
        "id": "AjkEX2DJWB_x"
      }
    },
    {
      "cell_type": "code",
      "execution_count": 1,
      "metadata": {
        "id": "dPrn41LWV_G0"
      },
      "outputs": [],
      "source": [
        "def list_operation(x,y,n):\n",
        "    \n",
        "    divisor = []\n",
        "    nonDiv = []\n",
        "    for i in range(x,y+1):\n",
        "        if i % n == 0:\n",
        "            divisor.append(i)\n",
        "    return divisor "
      ]
    },
    {
      "cell_type": "code",
      "source": [
        "list_operation(1, 10, 3)\n"
      ],
      "metadata": {
        "colab": {
          "base_uri": "https://localhost:8080/"
        },
        "id": "_DmAZywDWKfg",
        "outputId": "29f4f280-0ac9-421c-b96f-6bf2f6d98d7d"
      },
      "execution_count": 2,
      "outputs": [
        {
          "output_type": "execute_result",
          "data": {
            "text/plain": [
              "[3, 6, 9]"
            ]
          },
          "metadata": {},
          "execution_count": 2
        }
      ]
    },
    {
      "cell_type": "code",
      "source": [
        "list_operation(7, 9, 2)\n"
      ],
      "metadata": {
        "colab": {
          "base_uri": "https://localhost:8080/"
        },
        "id": "it927e-4WTv9",
        "outputId": "bb8f44ec-545b-42ee-bf7f-79b50b1ccdc4"
      },
      "execution_count": 3,
      "outputs": [
        {
          "output_type": "execute_result",
          "data": {
            "text/plain": [
              "[8]"
            ]
          },
          "metadata": {},
          "execution_count": 3
        }
      ]
    },
    {
      "cell_type": "code",
      "source": [
        "list_operation(15, 20, 7)\n"
      ],
      "metadata": {
        "colab": {
          "base_uri": "https://localhost:8080/"
        },
        "id": "HMqik9eQWgby",
        "outputId": "a7d59242-c14a-441f-8c25-20d18fec2560"
      },
      "execution_count": 4,
      "outputs": [
        {
          "output_type": "execute_result",
          "data": {
            "text/plain": [
              "[]"
            ]
          },
          "metadata": {},
          "execution_count": 4
        }
      ]
    },
    {
      "cell_type": "markdown",
      "source": [
        "Q2) \n",
        "Create a function that takes in two lists and returns True if the second list follows the first list\n",
        "by one element, and False otherwise. In other words, determine if the second list is the first\n",
        "list shifted to the right by 1.\n",
        "Examples\n",
        "simon_says([1, 2], [5, 1]) ➞ True\n",
        "simon_says([1, 2], [5, 5]) ➞ False\n",
        "simon_says([1, 2, 3, 4, 5], [0, 1, 2, 3, 4]) ➞ True\n",
        "simon_says([1, 2, 3, 4, 5], [5, 5, 1, 2, 3]) ➞ False\n",
        "Notes\n",
        " Both input lists will be of the same length, and will have a minimum length of 2.\n",
        " The values of the 0-indexed element in the second list and the n-1th indexed element\n",
        "in the first list do not matter."
      ],
      "metadata": {
        "id": "pwCyPz6jWk6I"
      }
    },
    {
      "cell_type": "code",
      "source": [
        "def simon_says(ls,ls2):\n",
        "    if ls[0:len(ls)-1] == ls2[1:len(ls2)]:\n",
        "        return True\n",
        "    return False"
      ],
      "metadata": {
        "id": "4JbGZsLfWidy"
      },
      "execution_count": 5,
      "outputs": []
    },
    {
      "cell_type": "code",
      "source": [
        "simon_says([1, 2], [5, 1])\n"
      ],
      "metadata": {
        "colab": {
          "base_uri": "https://localhost:8080/"
        },
        "id": "RTx8Ot-zWnyg",
        "outputId": "c5b2fad4-be0a-4f3f-b7d4-c7d0dd03adc8"
      },
      "execution_count": 6,
      "outputs": [
        {
          "output_type": "execute_result",
          "data": {
            "text/plain": [
              "True"
            ]
          },
          "metadata": {},
          "execution_count": 6
        }
      ]
    },
    {
      "cell_type": "code",
      "source": [
        "simon_says([1, 2], [5, 1])\n"
      ],
      "metadata": {
        "colab": {
          "base_uri": "https://localhost:8080/"
        },
        "id": "wbRIn5rQWpHU",
        "outputId": "8005d9be-88ec-4836-fe7f-b6a99cb0889f"
      },
      "execution_count": 7,
      "outputs": [
        {
          "output_type": "execute_result",
          "data": {
            "text/plain": [
              "True"
            ]
          },
          "metadata": {},
          "execution_count": 7
        }
      ]
    },
    {
      "cell_type": "code",
      "source": [
        "simon_says([1, 2, 3, 4, 5], [0, 1, 2, 3, 4])\n"
      ],
      "metadata": {
        "colab": {
          "base_uri": "https://localhost:8080/"
        },
        "id": "rh2QLmEMWqg_",
        "outputId": "538dc8c9-12cd-4142-e964-2456e6beaded"
      },
      "execution_count": 8,
      "outputs": [
        {
          "output_type": "execute_result",
          "data": {
            "text/plain": [
              "True"
            ]
          },
          "metadata": {},
          "execution_count": 8
        }
      ]
    },
    {
      "cell_type": "code",
      "source": [
        "simon_says([1, 2, 3, 4, 5], [5, 5, 1, 2, 3])\n"
      ],
      "metadata": {
        "colab": {
          "base_uri": "https://localhost:8080/"
        },
        "id": "uN2tzVQSWr-Q",
        "outputId": "e3bf4dcc-aaf8-4c77-f9f7-98629a872a03"
      },
      "execution_count": 9,
      "outputs": [
        {
          "output_type": "execute_result",
          "data": {
            "text/plain": [
              "False"
            ]
          },
          "metadata": {},
          "execution_count": 9
        }
      ]
    },
    {
      "cell_type": "markdown",
      "source": [
        "Q3) \n",
        "A group of friends have decided to start a secret society. The name will be the first letter of\n",
        "each of their names, sorted in alphabetical order.\n",
        "Create a function that takes in a list of names and returns the name of the secret society.\n",
        "\n",
        "Examples\n",
        "society_name(['Adam', 'Sarah', 'Malcolm']) ➞ 'AMS'\n",
        "society_name(['Harry', 'Newt', 'Luna', 'Cho']) ➞ 'CHLN'\n",
        "society_name(['Phoebe', 'Chandler', 'Rachel', 'Ross', 'Monica', 'Joey'])"
      ],
      "metadata": {
        "id": "YRGhi9hkWxvs"
      }
    },
    {
      "cell_type": "code",
      "source": [
        "def society_name(lst):\n",
        "    return ''.join([i[0] for i in sorted(lst)])"
      ],
      "metadata": {
        "id": "maA1AlGAWtg8"
      },
      "execution_count": 10,
      "outputs": []
    },
    {
      "cell_type": "code",
      "source": [
        "society_name(['Adam', 'Sarah', 'Malcolm'])\n"
      ],
      "metadata": {
        "colab": {
          "base_uri": "https://localhost:8080/",
          "height": 36
        },
        "id": "256iePvvW0AP",
        "outputId": "5cb47e08-6768-4c9a-8fbb-3aea6e4dfdda"
      },
      "execution_count": 11,
      "outputs": [
        {
          "output_type": "execute_result",
          "data": {
            "text/plain": [
              "'AMS'"
            ],
            "application/vnd.google.colaboratory.intrinsic+json": {
              "type": "string"
            }
          },
          "metadata": {},
          "execution_count": 11
        }
      ]
    },
    {
      "cell_type": "code",
      "source": [
        "society_name(['Harry', 'Newt', 'Luna', 'Cho'])\n",
        "\n"
      ],
      "metadata": {
        "colab": {
          "base_uri": "https://localhost:8080/",
          "height": 36
        },
        "id": "xiN23G1zW1Jt",
        "outputId": "e7241dce-e9b5-44bc-b151-f1ce4142fdfb"
      },
      "execution_count": 12,
      "outputs": [
        {
          "output_type": "execute_result",
          "data": {
            "text/plain": [
              "'CHLN'"
            ],
            "application/vnd.google.colaboratory.intrinsic+json": {
              "type": "string"
            }
          },
          "metadata": {},
          "execution_count": 12
        }
      ]
    },
    {
      "cell_type": "code",
      "source": [
        "society_name(['Phoebe', 'Chandler', 'Rachel', 'Ross', 'Monica', 'Joey'])\n"
      ],
      "metadata": {
        "colab": {
          "base_uri": "https://localhost:8080/",
          "height": 36
        },
        "id": "XTnSah7dW26n",
        "outputId": "cff64b88-50dd-431e-c266-f472840cd99f"
      },
      "execution_count": 13,
      "outputs": [
        {
          "output_type": "execute_result",
          "data": {
            "text/plain": [
              "'CJMPRR'"
            ],
            "application/vnd.google.colaboratory.intrinsic+json": {
              "type": "string"
            }
          },
          "metadata": {},
          "execution_count": 13
        }
      ]
    },
    {
      "cell_type": "markdown",
      "source": [
        "Q3) \n",
        "An isogram is a word that has no duplicate letters. Create a function that takes a string and\n",
        "returns either True or False depending on whether or not it's an 'isogram'.\n",
        "Examples\n",
        "is_isogram('Algorism') ➞ True\n",
        "is_isogram('PasSword') ➞ False\n",
        "is_isogram('Consecutive') ➞ False\n",
        "Notes\n",
        " Ignore letter case (should not be case sensitive).\n",
        " All test cases contain valid one word strings."
      ],
      "metadata": {
        "id": "5ruK7AJ6W69T"
      }
    },
    {
      "cell_type": "code",
      "source": [
        "def is_isogram(s):\n",
        "    for i in range(len(s)):\n",
        "        if s.lower().count(s[i]) > 1:\n",
        "            return False\n",
        "    else:\n",
        "        return True"
      ],
      "metadata": {
        "id": "rde-Qi6OW4aI"
      },
      "execution_count": 14,
      "outputs": []
    },
    {
      "cell_type": "code",
      "source": [
        "is_isogram('Algorism')\n"
      ],
      "metadata": {
        "colab": {
          "base_uri": "https://localhost:8080/"
        },
        "id": "SqdwEIKNW_SR",
        "outputId": "8fe1f62e-11f7-4952-a4eb-d49f9bd0c842"
      },
      "execution_count": 15,
      "outputs": [
        {
          "output_type": "execute_result",
          "data": {
            "text/plain": [
              "True"
            ]
          },
          "metadata": {},
          "execution_count": 15
        }
      ]
    },
    {
      "cell_type": "code",
      "source": [
        "is_isogram('PasSword')\n"
      ],
      "metadata": {
        "colab": {
          "base_uri": "https://localhost:8080/"
        },
        "id": "RSCpTQXRXChI",
        "outputId": "61874943-f91f-471d-bcde-ff66ed2d338a"
      },
      "execution_count": 16,
      "outputs": [
        {
          "output_type": "execute_result",
          "data": {
            "text/plain": [
              "False"
            ]
          },
          "metadata": {},
          "execution_count": 16
        }
      ]
    },
    {
      "cell_type": "code",
      "source": [
        "is_isogram('Consecutive')\n"
      ],
      "metadata": {
        "colab": {
          "base_uri": "https://localhost:8080/"
        },
        "id": "FYGxLj6EXEMf",
        "outputId": "e77489ff-bb6e-4e75-be8b-f595420629d6"
      },
      "execution_count": 17,
      "outputs": [
        {
          "output_type": "execute_result",
          "data": {
            "text/plain": [
              "False"
            ]
          },
          "metadata": {},
          "execution_count": 17
        }
      ]
    },
    {
      "cell_type": "markdown",
      "source": [
        "Q5)\n",
        "Create a function that takes a string and returns True or False, depending on whether the\n",
        "characters are in order or not.\n",
        "Examples\n",
        "is_in_order('abc') ➞ True\n",
        "is_in_order('edabit') ➞ False\n",
        "is_in_order('123') ➞ True\n",
        "is_in_order('xyzz') ➞ True\n",
        "Notes\n",
        "You don't have to handle empty strings."
      ],
      "metadata": {
        "id": "MLQMKj-_XG7y"
      }
    },
    {
      "cell_type": "code",
      "source": [
        "def is_in_order(s):\n",
        "    n = len(s)\n",
        "    c = [s[i] for i in range(len(s))]\n",
        "    c.sort()\n",
        "    for i in range(n):\n",
        "        if c[i] != s[i]:\n",
        "            return False\n",
        "    return True"
      ],
      "metadata": {
        "id": "SPBZtALPXGJV"
      },
      "execution_count": 18,
      "outputs": []
    },
    {
      "cell_type": "code",
      "source": [
        "is_in_order('abc')\n"
      ],
      "metadata": {
        "colab": {
          "base_uri": "https://localhost:8080/"
        },
        "id": "ag33Daa-XNmE",
        "outputId": "6b749eac-88f8-47ed-912d-036121a323fb"
      },
      "execution_count": 19,
      "outputs": [
        {
          "output_type": "execute_result",
          "data": {
            "text/plain": [
              "True"
            ]
          },
          "metadata": {},
          "execution_count": 19
        }
      ]
    },
    {
      "cell_type": "code",
      "source": [
        "is_in_order('edabit') \n"
      ],
      "metadata": {
        "colab": {
          "base_uri": "https://localhost:8080/"
        },
        "id": "m9b3vwa7XPUG",
        "outputId": "6367281c-9f63-4c8a-e3ba-b777fa63c267"
      },
      "execution_count": 20,
      "outputs": [
        {
          "output_type": "execute_result",
          "data": {
            "text/plain": [
              "False"
            ]
          },
          "metadata": {},
          "execution_count": 20
        }
      ]
    },
    {
      "cell_type": "code",
      "source": [
        "is_in_order('123')\n"
      ],
      "metadata": {
        "colab": {
          "base_uri": "https://localhost:8080/"
        },
        "id": "bcG0swAuXQtB",
        "outputId": "2497d2d4-431b-4912-f91a-9f54116ebdd6"
      },
      "execution_count": 21,
      "outputs": [
        {
          "output_type": "execute_result",
          "data": {
            "text/plain": [
              "True"
            ]
          },
          "metadata": {},
          "execution_count": 21
        }
      ]
    },
    {
      "cell_type": "code",
      "source": [
        "is_in_order('xyzz')\n"
      ],
      "metadata": {
        "colab": {
          "base_uri": "https://localhost:8080/"
        },
        "id": "mSmazbETXSte",
        "outputId": "fa8021fb-4561-4922-b5ad-dcda3b72cc69"
      },
      "execution_count": 22,
      "outputs": [
        {
          "output_type": "execute_result",
          "data": {
            "text/plain": [
              "True"
            ]
          },
          "metadata": {},
          "execution_count": 22
        }
      ]
    },
    {
      "cell_type": "code",
      "source": [
        ""
      ],
      "metadata": {
        "id": "5YNAiAk6XUP9"
      },
      "execution_count": null,
      "outputs": []
    }
  ]
}